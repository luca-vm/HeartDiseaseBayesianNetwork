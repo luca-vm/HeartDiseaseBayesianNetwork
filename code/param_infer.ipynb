{
 "cells": [
  {
   "cell_type": "markdown",
   "metadata": {},
   "source": [
    "# COMS4062A - Probabilistic Graphical Models\n",
    "# Assignment\n",
    "# Heart disease/failure prediction using Bayesian Networks\n",
    "# Luca von Mayer 2427051@students.wits.ac.za"
   ]
  },
  {
   "cell_type": "markdown",
   "metadata": {},
   "source": [
    "# Section 3: Parameter Estimation and Inference"
   ]
  },
  {
   "cell_type": "markdown",
   "metadata": {},
   "source": [
    "imports"
   ]
  },
  {
   "cell_type": "code",
   "execution_count": 243,
   "metadata": {},
   "outputs": [],
   "source": [
    "import os\n",
    "import time\n",
    "import warnings\n",
    "import pandas as pd\n",
    "import networkx as nx\n",
    "import seaborn as sns\n",
    "import matplotlib.pyplot as plt\n",
    "from pgmpy.estimators import *\n",
    "from pgmpy.models import BayesianNetwork\n",
    "from pgmpy.inference import VariableElimination, CausalInference, BeliefPropagation\n",
    "from sklearn.model_selection import train_test_split\n",
    "import matplotlib.pyplot as plt\n",
    "from sklearn.metrics import confusion_matrix, f1_score, roc_auc_score, roc_curve, accuracy_score\n",
    "warnings.simplefilter('ignore')"
   ]
  },
  {
   "cell_type": "markdown",
   "metadata": {},
   "source": [
    "# Train/Test split"
   ]
  },
  {
   "cell_type": "code",
   "execution_count": 244,
   "metadata": {},
   "outputs": [
    {
     "name": "stdout",
     "output_type": "stream",
     "text": [
      "(734, 12)\n",
      "(184, 12)\n"
     ]
    }
   ],
   "source": [
    "data = pd.read_csv(\"heartProcessed.csv\")\n",
    "\n",
    "X = (data.iloc[:, :-1])\n",
    "y = (data.iloc[:, -1])\n",
    "\n",
    "\n",
    "X_train, X_test, y_train, y_test = train_test_split(X, y, test_size=0.2, random_state=42)\n",
    "train_data = pd.concat([X_train, y_train], axis=1)\n",
    "test_data = pd.concat([X_test, y_test], axis=1)\n",
    "\n",
    "print(train_data.shape)\n",
    "print(test_data.shape)\n"
   ]
  },
  {
   "cell_type": "markdown",
   "metadata": {},
   "source": [
    "Setting up the save file"
   ]
  },
  {
   "cell_type": "code",
   "execution_count": 245,
   "metadata": {},
   "outputs": [],
   "source": [
    "result_file = \"paraminferResults.csv\"\n",
    "\n",
    "# Overwrite the file with headers\n",
    "with open(result_file, 'w', newline='') as file:\n",
    "    file.write(\"PETechnique,Inference,Accuracy,F1,RunTime\\n\")\n",
    "\n",
    "# Initialize a set to store unique rows\n",
    "unique_rows = set()"
   ]
  },
  {
   "cell_type": "markdown",
   "metadata": {},
   "source": [
    "# Scoring Metrics"
   ]
  },
  {
   "cell_type": "code",
   "execution_count": 246,
   "metadata": {},
   "outputs": [],
   "source": [
    "def score(test_data, predict_data):\n",
    "    if isinstance(predict_data[0], (float, int)):\n",
    "        # predict_data contains probabilities\n",
    "        binary_predictions = [int(p > 0.5) for p in predict_data]\n",
    "        accuracy = accuracy_score(test_data['HeartDisease'], binary_predictions)\n",
    "        f1 = f1_score(test_data['HeartDisease'], binary_predictions)\n",
    "        conf_matrix = confusion_matrix(test_data['HeartDisease'], binary_predictions)\n",
    "    else:\n",
    "        # predict_data contains binary or categorical values\n",
    "        accuracy = accuracy_score(test_data['HeartDisease'], predict_data)\n",
    "        f1 = f1_score(test_data['HeartDisease'], predict_data)\n",
    "        conf_matrix = confusion_matrix(test_data['HeartDisease'], predict_data)\n",
    "\n",
    "    print(f\"Accuracy: {accuracy}\")\n",
    "    print(f\"F1 Score: {f1}\")\n",
    "    print(\"Confusion Matrix:\")\n",
    "    print(conf_matrix)\n",
    "    return accuracy, f1\n"
   ]
  },
  {
   "cell_type": "markdown",
   "metadata": {},
   "source": [
    "Modellling"
   ]
  },
  {
   "cell_type": "code",
   "execution_count": 247,
   "metadata": {},
   "outputs": [
    {
     "data": {
      "application/vnd.jupyter.widget-view+json": {
       "model_id": "4635df73a1cd496084cbdec14d3a86a4",
       "version_major": 2,
       "version_minor": 0
      },
      "text/plain": [
       "  0%|          | 0/1000000 [00:00<?, ?it/s]"
      ]
     },
     "metadata": {},
     "output_type": "display_data"
    }
   ],
   "source": [
    "scoring_method = K2Score(data=data)\n",
    "est = HillClimbSearch(data=data)\n",
    "dag = est.estimate(\n",
    "scoring_method=scoring_method, max_indegree = 3)\n",
    "\n",
    "dag.add_nodes_from(data.columns)\n",
    "model = BayesianNetwork(dag)"
   ]
  },
  {
   "cell_type": "markdown",
   "metadata": {},
   "source": [
    "# Parameter estimation and Inference"
   ]
  },
  {
   "cell_type": "code",
   "execution_count": 248,
   "metadata": {},
   "outputs": [],
   "source": [
    "def run_experiment(PETechnique, Inference, prior_type=None, equivalent_sample_size=100):\n",
    "    start_time = time.time() # Record the start time\n",
    "    param_est = None\n",
    "    if PETechnique == \"MaximumLikelihoodEstimator\":\n",
    "        param_est = MaximumLikelihoodEstimator(model, data)\n",
    "    elif PETechnique.startswith(\"BayesianEstimator\"):\n",
    "        param_est = BayesianEstimator(model, data)\n",
    "    if param_est:\n",
    "        if prior_type:\n",
    "            model.add_cpds(*param_est.get_parameters(prior_type=prior_type, equivalent_sample_size=equivalent_sample_size))\n",
    "        else:\n",
    "            model.add_cpds(*param_est.get_parameters())\n",
    "    model.check_model()\n",
    "    infer = None\n",
    "    if Inference == \"VariableElimination\":\n",
    "        infer = VariableElimination(model)\n",
    "    elif Inference == \"BeliefPropagation\":\n",
    "        infer = BeliefPropagation(model)\n",
    "    elif Inference == \"CausalInference\":\n",
    "        infer = CausalInference(model)\n",
    "    if infer:\n",
    "        predict_data = []\n",
    "        for index, row in test_data.iterrows():\n",
    "            evid = {var: row[var] for var in model.nodes() if var != 'HeartDisease'}\n",
    "            if Inference == \"CausalInference\":\n",
    "                prediction = infer.query(variables=['HeartDisease'], evidence=evid)\n",
    "                predict_data.append(prediction.values[1])\n",
    "            else:\n",
    "                prediction = infer.map_query(variables=['HeartDisease'], evidence=evid, show_progress=False)\n",
    "                predict_data.append(prediction['HeartDisease'])\n",
    "                \n",
    "        accuracy, f1 = score(test_data, predict_data)\n",
    "        \n",
    "        end_time = time.time() # Record the end time\n",
    "        run_time = end_time - start_time # Calculate the runtime\n",
    "        print(f\"Run time: {run_time:.4f} seconds\") # Print the runtime\n",
    "            \n",
    "        new_row = f\"{PETechnique},{Inference},{accuracy},{f1}, {run_time:.4f}\"\n",
    "        if new_row not in unique_rows:\n",
    "            with open(result_file, 'a') as file:\n",
    "                file.write(new_row + \"\\n\")\n",
    "            unique_rows.add(new_row)\n",
    " \n"
   ]
  },
  {
   "cell_type": "code",
   "execution_count": 249,
   "metadata": {},
   "outputs": [
    {
     "name": "stdout",
     "output_type": "stream",
     "text": [
      "Accuracy: 0.8967391304347826\n",
      "F1 Score: 0.9099526066350712\n",
      "Confusion Matrix:\n",
      "[[69  8]\n",
      " [11 96]]\n",
      "Run time: 0.8804 seconds\n"
     ]
    }
   ],
   "source": [
    "run_experiment(\"MaximumLikelihoodEstimator\", \"VariableElimination\")"
   ]
  },
  {
   "cell_type": "code",
   "execution_count": 250,
   "metadata": {},
   "outputs": [
    {
     "name": "stderr",
     "output_type": "stream",
     "text": [
      "WARNING:pgmpy:Replacing existing CPD for Age\n",
      "WARNING:pgmpy:Replacing existing CPD for Sex\n",
      "WARNING:pgmpy:Replacing existing CPD for ChestPainType\n",
      "WARNING:pgmpy:Replacing existing CPD for RestingBP\n",
      "WARNING:pgmpy:Replacing existing CPD for Cholesterol\n",
      "WARNING:pgmpy:Replacing existing CPD for FastingBS\n",
      "WARNING:pgmpy:Replacing existing CPD for RestingECG\n",
      "WARNING:pgmpy:Replacing existing CPD for MaxHR\n",
      "WARNING:pgmpy:Replacing existing CPD for ExerciseAngina\n",
      "WARNING:pgmpy:Replacing existing CPD for Oldpeak\n",
      "WARNING:pgmpy:Replacing existing CPD for ST_Slope\n",
      "WARNING:pgmpy:Replacing existing CPD for HeartDisease\n"
     ]
    },
    {
     "name": "stdout",
     "output_type": "stream",
     "text": [
      "Accuracy: 0.8967391304347826\n",
      "F1 Score: 0.9107981220657277\n",
      "Confusion Matrix:\n",
      "[[68  9]\n",
      " [10 97]]\n",
      "Run time: 0.8922 seconds\n"
     ]
    }
   ],
   "source": [
    "run_experiment(\"BayesianEstimatorBDeu\", \"VariableElimination\", \"BDeu\")"
   ]
  },
  {
   "cell_type": "code",
   "execution_count": 251,
   "metadata": {},
   "outputs": [
    {
     "name": "stderr",
     "output_type": "stream",
     "text": [
      "WARNING:pgmpy:Replacing existing CPD for Age\n",
      "WARNING:pgmpy:Replacing existing CPD for Sex\n",
      "WARNING:pgmpy:Replacing existing CPD for ChestPainType\n",
      "WARNING:pgmpy:Replacing existing CPD for RestingBP\n",
      "WARNING:pgmpy:Replacing existing CPD for Cholesterol\n",
      "WARNING:pgmpy:Replacing existing CPD for FastingBS\n",
      "WARNING:pgmpy:Replacing existing CPD for RestingECG\n",
      "WARNING:pgmpy:Replacing existing CPD for MaxHR\n",
      "WARNING:pgmpy:Replacing existing CPD for ExerciseAngina\n",
      "WARNING:pgmpy:Replacing existing CPD for Oldpeak\n",
      "WARNING:pgmpy:Replacing existing CPD for ST_Slope\n",
      "WARNING:pgmpy:Replacing existing CPD for HeartDisease\n"
     ]
    },
    {
     "name": "stdout",
     "output_type": "stream",
     "text": [
      "Accuracy: 0.8858695652173914\n",
      "F1 Score: 0.9004739336492891\n",
      "Confusion Matrix:\n",
      "[[68  9]\n",
      " [12 95]]\n",
      "Run time: 0.8911 seconds\n"
     ]
    }
   ],
   "source": [
    "run_experiment(\"BayesianEstimatorK2\", \"VariableElimination\", \"K2\")"
   ]
  },
  {
   "cell_type": "code",
   "execution_count": 252,
   "metadata": {},
   "outputs": [
    {
     "name": "stderr",
     "output_type": "stream",
     "text": [
      "WARNING:pgmpy:Replacing existing CPD for Age\n",
      "WARNING:pgmpy:Replacing existing CPD for Sex\n",
      "WARNING:pgmpy:Replacing existing CPD for ChestPainType\n",
      "WARNING:pgmpy:Replacing existing CPD for RestingBP\n",
      "WARNING:pgmpy:Replacing existing CPD for Cholesterol\n",
      "WARNING:pgmpy:Replacing existing CPD for FastingBS\n",
      "WARNING:pgmpy:Replacing existing CPD for RestingECG\n",
      "WARNING:pgmpy:Replacing existing CPD for MaxHR\n",
      "WARNING:pgmpy:Replacing existing CPD for ExerciseAngina\n",
      "WARNING:pgmpy:Replacing existing CPD for Oldpeak\n",
      "WARNING:pgmpy:Replacing existing CPD for ST_Slope\n",
      "WARNING:pgmpy:Replacing existing CPD for HeartDisease\n"
     ]
    },
    {
     "name": "stdout",
     "output_type": "stream",
     "text": [
      "Accuracy: 0.8967391304347826\n",
      "F1 Score: 0.9099526066350712\n",
      "Confusion Matrix:\n",
      "[[69  8]\n",
      " [11 96]]\n",
      "Run time: 2.4443 seconds\n"
     ]
    }
   ],
   "source": [
    "run_experiment(\"MaximumLikelihoodEstimator\", \"BeliefPropagation\")"
   ]
  },
  {
   "cell_type": "code",
   "execution_count": 253,
   "metadata": {},
   "outputs": [
    {
     "name": "stderr",
     "output_type": "stream",
     "text": [
      "WARNING:pgmpy:Replacing existing CPD for Age\n"
     ]
    },
    {
     "name": "stderr",
     "output_type": "stream",
     "text": [
      "WARNING:pgmpy:Replacing existing CPD for Sex\n",
      "WARNING:pgmpy:Replacing existing CPD for ChestPainType\n",
      "WARNING:pgmpy:Replacing existing CPD for RestingBP\n",
      "WARNING:pgmpy:Replacing existing CPD for Cholesterol\n",
      "WARNING:pgmpy:Replacing existing CPD for FastingBS\n",
      "WARNING:pgmpy:Replacing existing CPD for RestingECG\n",
      "WARNING:pgmpy:Replacing existing CPD for MaxHR\n",
      "WARNING:pgmpy:Replacing existing CPD for ExerciseAngina\n",
      "WARNING:pgmpy:Replacing existing CPD for Oldpeak\n",
      "WARNING:pgmpy:Replacing existing CPD for ST_Slope\n",
      "WARNING:pgmpy:Replacing existing CPD for HeartDisease\n"
     ]
    },
    {
     "name": "stdout",
     "output_type": "stream",
     "text": [
      "Accuracy: 0.8967391304347826\n",
      "F1 Score: 0.9107981220657277\n",
      "Confusion Matrix:\n",
      "[[68  9]\n",
      " [10 97]]\n",
      "Run time: 2.2659 seconds\n"
     ]
    }
   ],
   "source": [
    "run_experiment(\"BayesianEstimatorBDeu\", \"BeliefPropagation\", \"BDeu\")"
   ]
  },
  {
   "cell_type": "code",
   "execution_count": 254,
   "metadata": {},
   "outputs": [
    {
     "name": "stderr",
     "output_type": "stream",
     "text": [
      "WARNING:pgmpy:Replacing existing CPD for Age\n",
      "WARNING:pgmpy:Replacing existing CPD for Sex\n",
      "WARNING:pgmpy:Replacing existing CPD for ChestPainType\n",
      "WARNING:pgmpy:Replacing existing CPD for RestingBP\n",
      "WARNING:pgmpy:Replacing existing CPD for Cholesterol\n",
      "WARNING:pgmpy:Replacing existing CPD for FastingBS\n",
      "WARNING:pgmpy:Replacing existing CPD for RestingECG\n",
      "WARNING:pgmpy:Replacing existing CPD for MaxHR\n",
      "WARNING:pgmpy:Replacing existing CPD for ExerciseAngina\n",
      "WARNING:pgmpy:Replacing existing CPD for Oldpeak\n",
      "WARNING:pgmpy:Replacing existing CPD for ST_Slope\n",
      "WARNING:pgmpy:Replacing existing CPD for HeartDisease\n"
     ]
    },
    {
     "name": "stdout",
     "output_type": "stream",
     "text": [
      "Accuracy: 0.8858695652173914\n",
      "F1 Score: 0.9004739336492891\n",
      "Confusion Matrix:\n",
      "[[68  9]\n",
      " [12 95]]\n",
      "Run time: 2.2511 seconds\n"
     ]
    }
   ],
   "source": [
    "run_experiment(\"BayesianEstimatorK2\", \"BeliefPropagation\", \"K2\")"
   ]
  },
  {
   "cell_type": "code",
   "execution_count": 255,
   "metadata": {},
   "outputs": [
    {
     "name": "stderr",
     "output_type": "stream",
     "text": [
      "WARNING:pgmpy:Replacing existing CPD for Age\n",
      "WARNING:pgmpy:Replacing existing CPD for Sex\n",
      "WARNING:pgmpy:Replacing existing CPD for ChestPainType\n",
      "WARNING:pgmpy:Replacing existing CPD for RestingBP\n",
      "WARNING:pgmpy:Replacing existing CPD for Cholesterol\n",
      "WARNING:pgmpy:Replacing existing CPD for FastingBS\n",
      "WARNING:pgmpy:Replacing existing CPD for RestingECG\n",
      "WARNING:pgmpy:Replacing existing CPD for MaxHR\n",
      "WARNING:pgmpy:Replacing existing CPD for ExerciseAngina\n",
      "WARNING:pgmpy:Replacing existing CPD for Oldpeak\n",
      "WARNING:pgmpy:Replacing existing CPD for ST_Slope\n",
      "WARNING:pgmpy:Replacing existing CPD for HeartDisease\n"
     ]
    },
    {
     "name": "stdout",
     "output_type": "stream",
     "text": [
      "Accuracy: 0.8967391304347826\n",
      "F1 Score: 0.9099526066350712\n",
      "Confusion Matrix:\n",
      "[[69  8]\n",
      " [11 96]]\n",
      "Run time: 0.3739 seconds\n"
     ]
    }
   ],
   "source": [
    "run_experiment(\"MaximumLikelihoodEstimator\", \"CausalInference\")"
   ]
  },
  {
   "cell_type": "code",
   "execution_count": 256,
   "metadata": {},
   "outputs": [
    {
     "name": "stderr",
     "output_type": "stream",
     "text": [
      "WARNING:pgmpy:Replacing existing CPD for Age\n",
      "WARNING:pgmpy:Replacing existing CPD for Sex\n",
      "WARNING:pgmpy:Replacing existing CPD for ChestPainType\n",
      "WARNING:pgmpy:Replacing existing CPD for RestingBP\n",
      "WARNING:pgmpy:Replacing existing CPD for Cholesterol\n",
      "WARNING:pgmpy:Replacing existing CPD for FastingBS\n",
      "WARNING:pgmpy:Replacing existing CPD for RestingECG\n",
      "WARNING:pgmpy:Replacing existing CPD for MaxHR\n",
      "WARNING:pgmpy:Replacing existing CPD for ExerciseAngina\n",
      "WARNING:pgmpy:Replacing existing CPD for Oldpeak\n",
      "WARNING:pgmpy:Replacing existing CPD for ST_Slope\n",
      "WARNING:pgmpy:Replacing existing CPD for HeartDisease\n"
     ]
    },
    {
     "name": "stdout",
     "output_type": "stream",
     "text": [
      "Accuracy: 0.8967391304347826\n",
      "F1 Score: 0.9107981220657277\n",
      "Confusion Matrix:\n",
      "[[68  9]\n",
      " [10 97]]\n",
      "Run time: 0.4305 seconds\n"
     ]
    }
   ],
   "source": [
    "run_experiment(\"BayesianEstimatorBDeu\", \"CausalInference\", \"BDeu\")"
   ]
  },
  {
   "cell_type": "code",
   "execution_count": 257,
   "metadata": {},
   "outputs": [
    {
     "name": "stderr",
     "output_type": "stream",
     "text": [
      "WARNING:pgmpy:Replacing existing CPD for Age\n",
      "WARNING:pgmpy:Replacing existing CPD for Sex\n",
      "WARNING:pgmpy:Replacing existing CPD for ChestPainType\n",
      "WARNING:pgmpy:Replacing existing CPD for RestingBP\n",
      "WARNING:pgmpy:Replacing existing CPD for Cholesterol\n",
      "WARNING:pgmpy:Replacing existing CPD for FastingBS\n",
      "WARNING:pgmpy:Replacing existing CPD for RestingECG\n",
      "WARNING:pgmpy:Replacing existing CPD for MaxHR\n",
      "WARNING:pgmpy:Replacing existing CPD for ExerciseAngina\n",
      "WARNING:pgmpy:Replacing existing CPD for Oldpeak\n",
      "WARNING:pgmpy:Replacing existing CPD for ST_Slope\n",
      "WARNING:pgmpy:Replacing existing CPD for HeartDisease\n"
     ]
    },
    {
     "name": "stdout",
     "output_type": "stream",
     "text": [
      "Accuracy: 0.8858695652173914\n",
      "F1 Score: 0.9004739336492891\n",
      "Confusion Matrix:\n",
      "[[68  9]\n",
      " [12 95]]\n",
      "Run time: 0.3709 seconds\n"
     ]
    }
   ],
   "source": [
    "run_experiment(\"BayesianEstimatorK2\", \"CausalInference\", \"K2\")"
   ]
  },
  {
   "cell_type": "markdown",
   "metadata": {},
   "source": [
    "# Plotting Results"
   ]
  },
  {
   "cell_type": "code",
   "execution_count": 259,
   "metadata": {},
   "outputs": [
    {
     "data": {
      "image/png": "[encoded data removed]",
      "text/plain": [
       "<Figure size 1200x900 with 3 Axes>"
      ]
     },
     "metadata": {},
     "output_type": "display_data"
    }
   ],
   "source": [
    "dataPlot = pd.read_csv(\"paraminferResults.csv\")\n",
    "\n",
    "# Set style\n",
    "sns.set(style=\"whitegrid\")\n",
    "\n",
    "# Create a figure with three subplots\n",
    "fig, axes = plt.subplots(3, 1, figsize=(12, 9))\n",
    "\n",
    "# Plot Accuracy\n",
    "ax1 = sns.barplot(data=dataPlot, x=\"PETechnique\", y=\"Accuracy\", hue=\"Inference\", palette=\"muted\", ax=axes[0])\n",
    "# Add labels to the bars\n",
    "for p in ax1.patches:\n",
    "    ax1.annotate(f\"{p.get_height():.4f}\", (p.get_x() + p.get_width() / 2., p.get_height()),\n",
    "                 ha='center', va='center', fontsize=8, color='black', xytext=(0, 5), textcoords='offset points')\n",
    "ax1.set_xlabel(\"\")\n",
    "ax1.set_ylabel(\"Accuracy\")\n",
    "ax1.set_xticklabels([])\n",
    "ax1.legend().remove()\n",
    "# Set y-axis limits\n",
    "ax1.set_ylim(0.88, 0.90)\n",
    "\n",
    "# Plot F1 Score\n",
    "ax2 = sns.barplot(data=dataPlot, x=\"PETechnique\", y=\"F1\", hue=\"Inference\", palette=\"muted\", ax=axes[1])\n",
    "# Add labels to the bars (sideways)\n",
    "for p in ax2.patches:\n",
    "    ax2.annotate(f\"{p.get_height():.4f}\", (p.get_x() + p.get_width() / 2., p.get_height()),\n",
    "                 ha='center', va='center', fontsize=8, color='black', xytext=(0, 5), textcoords='offset points')\n",
    "ax2.set_xlabel(\"\")\n",
    "ax2.set_ylabel(\"F1 Score\")\n",
    "ax2.set_xticklabels([])\n",
    "ax2.legend().remove()\n",
    "# Set y-axis limits\n",
    "ax2.set_ylim(0.895, 0.915)\n",
    "\n",
    "# Plot Run Time\n",
    "ax3 = sns.barplot(data=dataPlot, x=\"PETechnique\", y=\"RunTime\", hue=\"Inference\", palette=\"muted\", ax=axes[2])\n",
    "# Add labels to the bars (sideways)\n",
    "for p in ax3.patches:\n",
    "    ax3.annotate(f\"{p.get_height():.4f}\", (p.get_x() + p.get_width() / 2., p.get_height()),\n",
    "                 ha='center', va='center', fontsize=8, color='black', xytext=(0, 5), textcoords='offset points')\n",
    "ax3.set_xlabel(\"PETechnique\")\n",
    "ax3.set_ylabel(\"RunTime (s)\")\n",
    "ax3.set_xticklabels(ax3.get_xticklabels(), rotation=0)  # Rotate x-axis labels\n",
    "# Set y-axis limits\n",
    "ax3.set_ylim(0, 3)\n",
    "\n",
    "\n",
    "# Adjust layout\n",
    "plt.tight_layout()\n",
    "\n",
    "# Move the legend to the bottom\n",
    "plt.legend(title=\"Inference\", bbox_to_anchor=(0.5, -0.3), loc='upper center', ncol=2)\n",
    "\n",
    "# Show plot\n",
    "plt.show()\n",
    "\n"
   ]
  }
 ],
 "metadata": {
  "kernelspec": {
   "display_name": "base",
   "language": "python",
   "name": "python3"
  },
  "language_info": {
   "codemirror_mode": {
    "name": "ipython",
    "version": 3
   },
   "file_extension": ".py",
   "mimetype": "text/x-python",
   "name": "python",
   "nbconvert_exporter": "python",
   "pygments_lexer": "ipython3",
   "version": "3.11.7"
  }
 },
 "nbformat": 4,
 "nbformat_minor": 2
}
